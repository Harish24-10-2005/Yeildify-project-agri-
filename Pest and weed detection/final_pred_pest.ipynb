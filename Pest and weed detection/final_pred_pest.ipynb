{
 "cells": [
  {
   "cell_type": "code",
   "execution_count": 1,
   "id": "437dee30-0f3b-49a2-a433-b7dc38a2bf8c",
   "metadata": {},
   "outputs": [
    {
     "name": "stderr",
     "output_type": "stream",
     "text": [
      "C:\\Users\\HARISH\\AppData\\Local\\Programs\\Python\\Python312\\Lib\\site-packages\\torchvision\\models\\_utils.py:208: UserWarning: The parameter 'pretrained' is deprecated since 0.13 and may be removed in the future, please use 'weights' instead.\n",
      "  warnings.warn(\n",
      "C:\\Users\\HARISH\\AppData\\Local\\Programs\\Python\\Python312\\Lib\\site-packages\\torchvision\\models\\_utils.py:223: UserWarning: Arguments other than a weight enum or `None` for 'weights' are deprecated since 0.13 and may be removed in the future. The current behavior is equivalent to passing `weights=None`.\n",
      "  warnings.warn(msg)\n"
     ]
    },
    {
     "name": "stdin",
     "output_type": "stream",
     "text": [
      "Enter The path: pest_insect_dataset/test/catterpillar/catterpillar (18).jpg\n"
     ]
    },
    {
     "name": "stdout",
     "output_type": "stream",
     "text": [
      "Predicted label: catterpillar\n"
     ]
    }
   ],
   "source": [
    "import torch\n",
    "import torch.nn as nn\n",
    "import torch.optim as optim\n",
    "from torchvision import transforms\n",
    "from torch.utils.data import DataLoader\n",
    "from torchvision.datasets import ImageFolder\n",
    "import torchvision.models as models\n",
    "\n",
    "label_classes =['ants', 'aphids', 'armyworm', 'bees', 'beetle', 'bollworm', 'catterpillar', 'earthworms', 'earwig', 'grasshopper', 'mites', 'mosquito', 'moth', 'sawfly', 'slug', 'snail', 'stem_borer', 'wasp', 'weevil']\n",
    "\n",
    "num_classes = len(label_classes)\n",
    "loaded_model = models.densenet121(pretrained=False)  \n",
    "loaded_model.classifier = nn.Linear(loaded_model.classifier.in_features, num_classes)  \n",
    "loaded_model.load_state_dict(torch.load('cnn_model.pth'))\n",
    "device = 'cpu'\n",
    "loaded_model = loaded_model.to(device)\n",
    "loaded_model.eval()\n",
    "\n",
    "from torchvision import transforms\n",
    "from PIL import Image\n",
    "\n",
    "transform = transforms.Compose([\n",
    "    transforms.Resize((224, 224)),\n",
    "    transforms.ToTensor(),\n",
    "    transforms.Normalize((0.485, 0.456, 0.406), (0.229, 0.224, 0.225))\n",
    "])\n",
    "\n",
    "image_path = input(\"Enter The path:\")\n",
    "image = Image.open(image_path)\n",
    "\n",
    "input_image = transform(image).unsqueeze(0).to(device)  \n",
    "\n",
    "with torch.no_grad():\n",
    "    output = loaded_model(input_image)\n",
    "    _, predicted_class = torch.max(output, 1)\n",
    "\n",
    "predicted_label = label_classes[predicted_class.item()]\n",
    "\n",
    "print(\"Predicted label:\", predicted_label)\n",
    "#pest_insect_dataset/train/ants/ants (10).jpg"
   ]
  },
  {
   "cell_type": "code",
   "execution_count": 2,
   "id": "0ae5524f-4dda-46f9-92e4-409d035a6ccd",
   "metadata": {},
   "outputs": [
    {
     "name": "stdout",
     "output_type": "stream",
     "text": [
      "CATTERPILLAR:\n",
      "No search results found.\n"
     ]
    }
   ],
   "source": [
    "import requests\n",
    "\n",
    "def search_pesticides(pest_name):\n",
    "    try:\n",
    "        url = \"https://en.wikipedia.org/w/api.php\"\n",
    "        params = {\n",
    "            \"action\": \"query\",\n",
    "            \"format\": \"json\",\n",
    "            \"list\": \"search\",\n",
    "            \"srsearch\": f\"about insect {pest_name} and pesticide to kill\",\n",
    "            \"srprop\": \"snippet\",\n",
    "            \"srlimit\": \"5\"  \n",
    "        }\n",
    "        response = requests.get(url, params=params)\n",
    "        response.raise_for_status()\n",
    "        data = response.json()\n",
    "        # Extract search results\n",
    "        search_results = data['query']['search']\n",
    "        return search_results\n",
    "    except requests.exceptions.RequestException as e:\n",
    "        print(\"Error retrieving data:\", e)\n",
    "        return None\n",
    "\n",
    "def display_search_results(search_results):\n",
    "    if not search_results:\n",
    "        print(\"No search results found.\")\n",
    "        return\n",
    "    print(\"About and Pesticide :\")\n",
    "    for result in search_results:\n",
    "        title = result['title']\n",
    "        snippet = result['snippet'].replace('<span class=\"searchmatch\">', '').replace('</span>', '')\n",
    "        print(f\"-> {title.upper()}:\")\n",
    "        print(f\"  -{snippet}\")\n",
    "\n",
    "pest_name = predicted_label.strip()\n",
    "print(pest_name.upper()+str(\":\"))\n",
    "if not pest_name:\n",
    "    print(\"Please enter a valid pest name.\")\n",
    "search_results = search_pesticides(pest_name)\n",
    "display_search_results(search_results)\n"
   ]
  },
  {
   "cell_type": "code",
   "execution_count": null,
   "id": "1a62d21e-6c21-4ecf-9975-facb5968c401",
   "metadata": {},
   "outputs": [],
   "source": []
  }
 ],
 "metadata": {
  "kernelspec": {
   "display_name": "Python 3 (ipykernel)",
   "language": "python",
   "name": "python3"
  },
  "language_info": {
   "codemirror_mode": {
    "name": "ipython",
    "version": 3
   },
   "file_extension": ".py",
   "mimetype": "text/x-python",
   "name": "python",
   "nbconvert_exporter": "python",
   "pygments_lexer": "ipython3",
   "version": "3.12.3"
  }
 },
 "nbformat": 4,
 "nbformat_minor": 5
}
