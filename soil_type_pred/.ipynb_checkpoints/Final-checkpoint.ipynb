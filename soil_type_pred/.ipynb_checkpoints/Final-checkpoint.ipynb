{
 "cells": [
  {
   "cell_type": "code",
   "execution_count": 3,
   "id": "2a3b82a5-1b78-4ffa-9c06-270131252e5e",
   "metadata": {},
   "outputs": [
    {
     "name": "stdin",
     "output_type": "stream",
     "text": [
      "Enter the path of the Image: Soil_type_dataset/test_dataset/doubled_output/137.png\n"
     ]
    },
    {
     "name": "stdout",
     "output_type": "stream",
     "text": [
      "The predicted soil for the input image is: black Soil\n"
     ]
    }
   ],
   "source": [
    "import torch\n",
    "import torch.nn as nn\n",
    "import torch.optim as optim\n",
    "from torchvision import transforms\n",
    "from torch.utils.data import DataLoader\n",
    "from torchvision.datasets import ImageFolder\n",
    "import torchvision.models as models\n",
    "import torchvision.models as models\n",
    "from torchvision import transforms\n",
    "from PIL import Image\n",
    "cnn_model = models.densenet121(pretrained=False) \n",
    "cnn_model.classifier = nn.Linear(cnn_model.classifier.in_features, 10)\n",
    "cnn_model.load_state_dict(torch.load('soil_type_pred.pth')) \n",
    "cnn_model.eval()\n",
    "\n",
    "transform = transforms.Compose([\n",
    "    transforms.Resize((224, 224)),\n",
    "    transforms.Grayscale(num_output_channels=3),  \n",
    "    transforms.ToTensor(),\n",
    "    transforms.Normalize((0.485, 0.456, 0.406), (0.229, 0.224, 0.225))\n",
    "])\n",
    "\n",
    "image_path = input(\"Enter the path of the Image:\") \n",
    "image = Image.open(image_path)\n",
    "image = transform(image)\n",
    "image = image.unsqueeze(0) \n",
    "\n",
    "# Perform inference\n",
    "with torch.no_grad():\n",
    "    output = cnn_model(image)\n",
    "    probabilities = torch.softmax(output, dim=1)\n",
    "    predicted_class_index = torch.argmax(probabilities, dim=1).item()\n",
    "\n",
    "labels_list = [\n",
    "    \"Alluvial soil\", \"Cinder Soil\", \"Clayey soils\", \"Laterite soil\", \n",
    "    \"Loamy soil\", \"Peat Soil\", \"Sandy loam\", \"Sandy soil\", \n",
    "    \"Yellow Soil\", \"black Soil\"\n",
    "]\n",
    "\n",
    "class_label = labels_list[predicted_class_index]\n",
    "\n",
    "print(f\"The predicted soil for the input image is: {class_label}\")\n",
    "# Soil_type_dataset/test_dataset/Alluvial soil/alluvial 6.png\n",
    "# Soil_type_dataset/test_dataset/doubled_output/137.png"
   ]
  },
  {
   "cell_type": "code",
   "execution_count": null,
   "id": "e0cf1a9a-1e97-40ee-8d19-86fe081cbd18",
   "metadata": {},
   "outputs": [],
   "source": []
  }
 ],
 "metadata": {
  "kernelspec": {
   "display_name": "Python 3 (ipykernel)",
   "language": "python",
   "name": "python3"
  },
  "language_info": {
   "codemirror_mode": {
    "name": "ipython",
    "version": 3
   },
   "file_extension": ".py",
   "mimetype": "text/x-python",
   "name": "python",
   "nbconvert_exporter": "python",
   "pygments_lexer": "ipython3",
   "version": "3.12.3"
  }
 },
 "nbformat": 4,
 "nbformat_minor": 5
}
