{
 "cells": [
  {
   "cell_type": "code",
   "execution_count": 1,
   "id": "693a284b-edc7-44e5-a0d6-ca4b0e04891c",
   "metadata": {},
   "outputs": [
    {
     "name": "stderr",
     "output_type": "stream",
     "text": [
      "C:\\Users\\HARISH\\AppData\\Local\\Programs\\Python\\Python312\\Lib\\site-packages\\torchvision\\models\\_utils.py:208: UserWarning: The parameter 'pretrained' is deprecated since 0.13 and may be removed in the future, please use 'weights' instead.\n",
      "  warnings.warn(\n",
      "C:\\Users\\HARISH\\AppData\\Local\\Programs\\Python\\Python312\\Lib\\site-packages\\torchvision\\models\\_utils.py:223: UserWarning: Arguments other than a weight enum or `None` for 'weights' are deprecated since 0.13 and may be removed in the future. The current behavior is equivalent to passing `weights=None`.\n",
      "  warnings.warn(msg)\n"
     ]
    },
    {
     "name": "stdin",
     "output_type": "stream",
     "text": [
      "Enter the path of Image: test_dataset/Potato___Early_blight/image (102).JPG\n"
     ]
    },
    {
     "name": "stdout",
     "output_type": "stream",
     "text": [
      "Predicted label: Potato_Early_blight\n"
     ]
    }
   ],
   "source": [
    "import torch\n",
    "import torch.nn as nn\n",
    "import torch.optim as optim\n",
    "from torchvision import transforms\n",
    "from torch.utils.data import DataLoader\n",
    "from torchvision.datasets import ImageFolder\n",
    "import torchvision.models as models\n",
    "from tqdm import tqdm\n",
    "import time\n",
    "l_classes = ['Apple__Apple_scab', 'Apple_Black_rot', 'Apple_Cedar_apple_rust', 'Apple_healthy', 'Blueberry_healthy', 'Cherry_Powdery_mildew', 'Cherry_healthy', 'Corn_Cercospora_leaf_spot Gray_leaf_spot', 'Corn_Common_rust', 'Corn_Northern_Leaf_Blight', 'Corn_healthy', 'Grape_Black_rot', 'Grape_Esca(Black_Measles)', 'Grape__Leaf_blight(Isariopsis_Leaf_Spot)', 'Grape__healthy', 'Orange_Haunglongbing(Citrus_greening)', 'Peach__Bacterial_spot', 'Peach_healthy', 'Pepper,_bell_Bacterial_spot', 'Pepper,_bell_healthy', 'Potato_Early_blight', 'Potato_Late_blight', 'Potato_healthy', 'Raspberry_healthy', 'Soybean_healthy', 'Squash_Powdery_mildew', 'Strawberry_Leaf_scorch', 'Strawberry_healthy', 'Tomato_Bacterial_spot', 'Tomato_Early_blight', 'Tomato_Late_blight', 'Tomato_Leaf_Mold', 'Tomato_Septoria_leaf_spot', 'Tomato_Spider_mites Two-spotted_spider_mite', 'Tomato_Target_Spot', 'Tomato_Tomato_Yellow_Leaf_Curl_Virus', 'Tomato_Tomato_mosaic_virus', 'Tomato__healthy']\n",
    "num_classes = len(l_classes)\n",
    "device = torch.device(\"cuda\" if torch.cuda.is_available() else \"cpu\")\n",
    "loaded_model = models.densenet121(pretrained=False)  \n",
    "loaded_model.classifier = nn.Linear(loaded_model.classifier.in_features, num_classes)  \n",
    "loaded_model.load_state_dict(torch.load('plant_disease_model.pth'))\n",
    "loaded_model = loaded_model.to(device)\n",
    "loaded_model.eval()\n",
    "\n",
    "from torchvision import transforms\n",
    "from PIL import Image\n",
    "\n",
    "transform = transforms.Compose([\n",
    "    transforms.Resize((224, 224)),\n",
    "    transforms.ToTensor(),\n",
    "    transforms.Normalize((0.485, 0.456, 0.406), (0.229, 0.224, 0.225))\n",
    "])\n",
    "\n",
    "image_path = input(\"Enter the path of Image:\")\n",
    "image = Image.open(image_path)\n",
    "\n",
    "input_image = transform(image).unsqueeze(0).to(device)  \n",
    "\n",
    "with torch.no_grad():\n",
    "    output = loaded_model(input_image)\n",
    "    _, predicted_class = torch.max(output, 1)\n",
    "predicted_label = l_classes[predicted_class.item()]\n",
    "\n",
    "print(\"Predicted label:\", predicted_label)\n"
   ]
  },
  {
   "cell_type": "code",
   "execution_count": 3,
   "id": "f1761eda-9434-413d-b448-b49af520e0d6",
   "metadata": {},
   "outputs": [
    {
     "name": "stdout",
     "output_type": "stream",
     "text": [
      "Description: Potato early blight, caused by the fungus Alternaria solani, is a common foliar disease affecting potato plants. Early blight can cause significant yield losses if left unmanaged.\n",
      "Management Strategies:\n",
      "\n",
      "Cultural Practices:\n",
      "- Crop rotation: Rotate potatoes with non-host crops to break the disease cycle and reduce inoculum buildup in the soil.\n",
      "- Sanitation: Remove and destroy infected plant debris to reduce overwintering of the fungus.\n",
      "- Spacing: Plant potatoes with proper spacing to promote air circulation and reduce humidity around the foliage.\n",
      "\n",
      "Resistant Varieties:\n",
      "- Plant potato varieties that are resistant or tolerant to early blight. Resistant varieties may require fewer fungicide applications.\n",
      "\n",
      "Chemical Control:\n",
      "- Fungicides: Apply fungicides preventatively or curatively to protect potato foliage from early blight infection. Fungicides containing active ingredients such as chlorothalonil or maneb are commonly used for early blight control. Follow label instructions carefully for application rates and timing.\n",
      "\n",
      "Integrated Pest Management (IPM):\n",
      "- Combine cultural practices with fungicide applications for effective disease management.\n",
      "- Monitor potato fields regularly for signs of early blight and apply fungicides when disease thresholds are reached.\n",
      "- Implement strategies to reduce stress on potato plants, such as proper irrigation and fertility management, to minimize susceptibility to early blight.\n",
      "\n",
      "Consultation with Experts:\n",
      "- Seek advice from local agricultural extension services or potato specialists for specific recommendations tailored to your region and potato production system.\n"
     ]
    }
   ],
   "source": [
    "healthy = ['Apple_healthy', 'Blueberry_healthy', 'Cherry_healthy', 'Corn_healthy', 'Grape__healthy', 'Peach_healthy', 'Pepper,_bell_healthy', 'Potato_healthy', 'Raspberry_healthy', 'Soybean_healthy', 'Strawberry_healthy', 'Tomato__healthy']\n",
    "message = \"\"\"\n",
    "                Black rot, caused by the fungus Botryosphaeria obtusa, is a serious disease affecting apple trees. While it's challenging to completely cure an established case of black rot, you can manage and prevent its spread using various strategies. Here are some approaches:\n",
    "                \n",
    "                1. Pruning: Prune infected branches and remove all diseased fruit from the tree. This helps prevent the spread of the fungus to healthy parts of the tree.\n",
    "                \n",
    "                2. Sanitation: Clean up fallen leaves, fruit, and any other debris around the tree. This reduces the number of fungal spores that can overwinter and reinfect the tree in the following growing season.\n",
    "                \n",
    "                3. Chemical Control: Apply fungicides labeled for black rot control. Copper-based fungicides and fungicides containing captan or thiophanate-methyl are commonly used for managing black rot. Follow the manufacturer's instructions for application rates and timing.\n",
    "                \n",
    "                4. Resistant Varieties: Planting apple tree varieties that are resistant or less susceptible to black rot can help reduce the severity of the disease. Consult with local nurseries or extension services for recommendations on resistant apple varieties.\n",
    "                \n",
    "                5. Pruning and Air Circulation: Proper pruning to improve air circulation within the canopy can help reduce humidity levels, which in turn discourages fungal growth. This includes thinning out dense foliage and ensuring adequate spacing between branches.\n",
    "                \n",
    "                6. Fruit Bagging: Bagging developing fruit with breathable covers can protect them from fungal infection. This is especially useful in orchards with a history of black rot.\n",
    "                \n",
    "                7. Integrated Pest Management (IPM): Implement an integrated approach to managing pests and diseases in the orchard. This includes cultural practices, chemical treatments, and biological controls tailored to the specific conditions of the orchard.\n",
    "                \n",
    "                8. Monitoring: Regularly inspect apple trees for symptoms of black rot, such as dark, sunken lesions on fruit and leaves. Early detection allows for timely intervention and better disease management.\n",
    "                \n",
    "                9. Consultation with Experts: If black rot persists despite your efforts, seek advice from local agricultural extension services or plant pathology experts. They can provide personalized recommendations based on your specific situation and local conditions.\n",
    "            \"\"\"\n",
    "\n",
    "if predicted_label in healthy:\n",
    "    print(\"your plant is healthy\")\n",
    "else:\n",
    "    import json\n",
    "    \n",
    "    with open('disease_info.json', 'r') as json_file:\n",
    "        disease_info = json.load(json_file)\n",
    "    \n",
    "    def print_disease_details(disease_name):\n",
    "        if disease_name in disease_info:\n",
    "            disease_details = disease_info[disease_name]\n",
    "            description = disease_details.get('Description', 'Description not available.')\n",
    "            management_strategies = disease_details.get('Management Strategies', {})\n",
    "            if description == 'Description not available.' and not management_strategies:\n",
    "                print(f\"No information available for '{disease_name}'. Please consult with a plant pathology expert.\")\n",
    "            else:\n",
    "                print(\"Description:\", description)\n",
    "                print(\"Management Strategies:\")\n",
    "                for strategy, details in management_strategies.items():\n",
    "                    print(f\"\\n{strategy}:\")\n",
    "                    for item in details:\n",
    "                        print(\"-\", item)\n",
    "        else:\n",
    "            print(f\"Disease '{disease_name}' not found. Please check the spelling or consult with a plant pathology expert.\")\n",
    "\n",
    "\n",
    "    if predicted_label =='Apple_Black_rot':\n",
    "        print(message)\n",
    "    else:\n",
    "        print_disease_details(predicted_label)\n"
   ]
  },
  {
   "cell_type": "code",
   "execution_count": null,
   "id": "ee60ecc6-a529-4fd8-b150-72a4b0fe8ebd",
   "metadata": {},
   "outputs": [],
   "source": []
  }
 ],
 "metadata": {
  "kernelspec": {
   "display_name": "Python 3 (ipykernel)",
   "language": "python",
   "name": "python3"
  },
  "language_info": {
   "codemirror_mode": {
    "name": "ipython",
    "version": 3
   },
   "file_extension": ".py",
   "mimetype": "text/x-python",
   "name": "python",
   "nbconvert_exporter": "python",
   "pygments_lexer": "ipython3",
   "version": "3.12.3"
  }
 },
 "nbformat": 4,
 "nbformat_minor": 5
}
